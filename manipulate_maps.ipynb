{
 "cells": [
  {
   "attachments": {},
   "cell_type": "markdown",
   "metadata": {},
   "source": [
    "# Manipulate maps (.nii files)\n",
    "The maps of activation for the HMM states are .nii files. This notebook manipulates these files to create new maps (subtract gloabal average from state activity)."
   ]
  },
  {
   "cell_type": "code",
   "execution_count": 1,
   "metadata": {},
   "outputs": [],
   "source": [
    "from pathlib import Path\n",
    "\n",
    "import nibabel as nib\n",
    "from nibabel import cifti2 as ci\n",
    "import numpy as np\n",
    "import scipy\n",
    "\n",
    "\n",
    "# Setup data path\n",
    "data_path = Path('C:/Users/tobia/Documents/dev/Thesis/thesis/Data')\n",
    "\n",
    "hmm_states = 12"
   ]
  },
  {
   "attachments": {},
   "cell_type": "markdown",
   "metadata": {},
   "source": [
    "### Create new maps with GA subtracted"
   ]
  },
  {
   "cell_type": "code",
   "execution_count": 2,
   "metadata": {},
   "outputs": [],
   "source": [
    "def subtract_global_average(path):\n",
    "    \"\"\"Keep the last state as global average and subtract it from all other states.\"\"\"\n",
    "    nii = nib.load(path)\n",
    "    \n",
    "    data = nii.get_fdata()\n",
    "\n",
    "    data_stds = np.zeros(data.shape)\n",
    "\n",
    "    for state in range(hmm_states):\n",
    "        data_stds[state] = data[state] - data[-1]\n",
    "        \n",
    "    # Create a new image object with the result data and header from the first image\n",
    "    data_nii_stds = ci.Cifti2Image(data_stds, nii.header)\n",
    "    \n",
    "    return data_nii_stds"
   ]
  },
  {
   "cell_type": "code",
   "execution_count": 15,
   "metadata": {},
   "outputs": [
    {
     "name": "stderr",
     "output_type": "stream",
     "text": [
      "pixdim[1,2,3] should be non-zero; setting 0 dims to 1\n",
      "pixdim[1,2,3] should be non-zero; setting 0 dims to 1\n",
      "pixdim[1,2,3] should be non-zero; setting 0 dims to 1\n",
      "pixdim[1,2,3] should be non-zero; setting 0 dims to 1\n",
      "pixdim[1,2,3] should be non-zero; setting 0 dims to 1\n",
      "pixdim[1,2,3] should be non-zero; setting 0 dims to 1\n",
      "pixdim[1,2,3] should be non-zero; setting 0 dims to 1\n",
      "pixdim[1,2,3] should be non-zero; setting 0 dims to 1\n"
     ]
    }
   ],
   "source": [
    "hemispheres = ['left', 'right']\n",
    "band_types =  {\n",
    "    'fac1': 'deltatheta',\n",
    "    'fac2': 'alpha',\n",
    "    'fac3': 'beta',\n",
    "    'wideband': 'wideband'\n",
    "}\n",
    "\n",
    "for k, v in band_types.items():\n",
    "    for hemisphere in hemispheres:\n",
    "        path = Path(f\"{data_path}/maps/MRC-Notts_3pcc_embedded_K12_rep1_stdised_{k}_2mm_{hemisphere}.dtseries.nii\")\n",
    "        data_norm = subtract_global_average(path)\n",
    "        nib.save(data_norm, Path(f\"{data_path}/maps_normalized/{hemisphere}_{v}_norm.dtseries.nii\"))"
   ]
  },
  {
   "attachments": {},
   "cell_type": "markdown",
   "metadata": {},
   "source": [
    "### Prepare maps for conversion to .nii\n",
    "This is required for converting to neurosynth."
   ]
  },
  {
   "cell_type": "code",
   "execution_count": 16,
   "metadata": {},
   "outputs": [
    {
     "name": "stderr",
     "output_type": "stream",
     "text": [
      "C:\\Users\\tobia\\AppData\\Local\\Temp\\ipykernel_21632\\818043617.py:12: DeprecationWarning: from_dict class method deprecated. Use GiftiMetaData directly.\n",
      "\n",
      "* deprecated from version: 4.0\n",
      "* Will raise <class 'nibabel.deprecator.ExpiredDeprecationError'> as of version: 6.0\n",
      "  meta = nib.gifti.GiftiMetaData.from_dict({\"AnatomicalStructurePrimary\": f\"Cortex{hemisphere.capitalize()}\"})\n"
     ]
    }
   ],
   "source": [
    "# Convert to func.gii file format\n",
    "hemispheres = ['left', 'right']\n",
    "band_types = ['deltatheta', 'alpha', 'beta', 'wideband']\n",
    "\n",
    "for band_type in band_types:\n",
    "    for hemisphere in hemispheres:\n",
    "        nii = nib.load(Path(f\"{data_path}/maps_normalized/{hemisphere}_{band_type}_norm.dtseries.nii\"))\n",
    "        data = nii.get_fdata()\n",
    "        \n",
    "        for state in range(hmm_states):\n",
    "            state_data = data[state]\n",
    "            state_data = state_data.astype(np.float32)\n",
    "            meta = nib.gifti.GiftiMetaData.from_dict({\"AnatomicalStructurePrimary\": f\"Cortex{hemisphere.capitalize()}\"})\n",
    "            gii_img = nib.gifti.GiftiImage(darrays=[nib.gifti.GiftiDataArray(state_data)], meta=meta)\n",
    "            nib.save(gii_img, f'data/maps_normalized_volumetric/temp/{state}_{hemisphere}_{band_type}.func.gii')"
   ]
  },
  {
   "attachments": {},
   "cell_type": "markdown",
   "metadata": {},
   "source": [
    "Afterwards, map to the HCP S1200 group average using `wb_command`:  \n",
    "> ```wb_command -metric-to-volume-mapping maps_conversion/cortical_state_maps/z_state3_left_fac3.func.gii HCP_S1200_GroupAvg/S1200.L.midthickness_MSMAll.32k_fs_LR.surf.gii HCP_S1200_GroupAvg/S1200_AverageT1w_restore.nii maps_conversion/state3_left_fac3.nii -ribbon-constrained HCP_S1200_GroupAvg/S1200.L.white_MSMAll.32k_fs_LR.surf.gii HCP_S1200_GroupAvg/S1200.L.pial_MSMAll.32k_fs_LR.surf.gii```"
   ]
  },
  {
   "cell_type": "code",
   "execution_count": 2,
   "metadata": {},
   "outputs": [],
   "source": [
    "# Run workbench command for mapping to volumetric space\n",
    "import subprocess\n",
    "\n",
    "for hemisphere in ['left', 'right']:\n",
    "    for fac in ['deltatheta', 'alpha', 'beta', 'wideband']:\n",
    "        for state in range(hmm_states):\n",
    "            wb_command = f\"wb_command -metric-to-volume-mapping maps_normalized_volumetric/temp/{state}_{hemisphere}_{fac}.func.gii HCP_S1200_GroupAvg/S1200.{'L' if hemisphere == 'left' else 'R'}.midthickness_MSMAll.32k_fs_LR.surf.gii HCP_S1200_GroupAvg/S1200_AverageT1w_restore.nii maps_normalized_volumetric/leftright/{state}_{hemisphere}_{fac}.nii -ribbon-constrained HCP_S1200_GroupAvg/S1200.{'L' if hemisphere == 'left' else 'R'}.white_MSMAll.32k_fs_LR.surf.gii HCP_S1200_GroupAvg/S1200.{'L' if hemisphere == 'left' else 'R'}.pial_MSMAll.32k_fs_LR.surf.gii\"\n",
    "            cd = \"C:\\\\Users\\\\tobia\\\\Documents\\\\dev\\\\Thesis\\\\thesis\\\\data\"\n",
    "\n",
    "            command_string = f'cd {cd} && {wb_command}'\n",
    "\n",
    "            result = subprocess.run(command_string, shell=True, capture_output=True, text=True)"
   ]
  },
  {
   "cell_type": "code",
   "execution_count": null,
   "metadata": {},
   "outputs": [],
   "source": [
    "# Combine the volumetric maps\n",
    "for state in range(hmm_states):\n",
    "    for fac in ['deltatheta', 'alpha', 'beta', 'wideband']:\n",
    "        # Patch together images\n",
    "        left_img = nib.load(f'data/maps_normalized_volumetric/leftright/{state}_left_{fac}.nii')\n",
    "        right_img = nib.load(f'data/maps_normalized_volumetric/leftright/{state}_right_{fac}.nii')\n",
    "\n",
    "        left_data = left_img.get_fdata()\n",
    "        right_data = right_img.get_fdata()\n",
    "\n",
    "        combined_data = left_data + right_data\n",
    "\n",
    "        combined_img = nib.Nifti1Image(combined_data, left_img.affine, left_img.header)\n",
    "\n",
    "        combined_img.to_filename(f'data/maps_normalized_volumetric/state{state}_{fac}.nii')"
   ]
  },
  {
   "attachments": {},
   "cell_type": "markdown",
   "metadata": {},
   "source": [
    "### Maps comparison"
   ]
  },
  {
   "cell_type": "code",
   "execution_count": 26,
   "metadata": {},
   "outputs": [
    {
     "name": "stderr",
     "output_type": "stream",
     "text": [
      "pixdim[1,2,3] should be non-zero; setting 0 dims to 1\n",
      "pixdim[1,2,3] should be non-zero; setting 0 dims to 1\n",
      "pixdim[1,2,3] should be non-zero; setting 0 dims to 1\n",
      "pixdim[1,2,3] should be non-zero; setting 0 dims to 1\n",
      "pixdim[1,2,3] should be non-zero; setting 0 dims to 1\n",
      "pixdim[1,2,3] should be non-zero; setting 0 dims to 1\n",
      "pixdim[1,2,3] should be non-zero; setting 0 dims to 1\n",
      "pixdim[1,2,3] should be non-zero; setting 0 dims to 1\n"
     ]
    }
   ],
   "source": [
    "s1 = 4\n",
    "s2 = 3\n",
    "for hemisphere in ['left', 'right']:\n",
    "    for band_type in ['fac1', 'fac2', 'fac3', 'wideband']:\n",
    "        path = Path(f\"{data_path}/maps/MRC-Notts_3pcc_embedded_K12_rep1_stdised_{band_type}_2mm_{hemisphere}.dtseries.nii\")\n",
    "\n",
    "        nii = nib.load(path)\n",
    "\n",
    "        data = nii.get_fdata()\n",
    "\n",
    "        data_stds = np.zeros(data.shape)\n",
    "\n",
    "        for state in range(hmm_states):\n",
    "            data_stds[state] = data[state] - data[-1]\n",
    "            \n",
    "        data_s4_minus_s11 = np.zeros((data.shape))\n",
    "\n",
    "        data_s4_minus_s11[0] = data_stds[s1] - data_stds[s2]\n",
    "\n",
    "        data_s11_nii_stds = ci.Cifti2Image(data_s4_minus_s11, nii.header)\n",
    "\n",
    "        nib.save(data_s11_nii_stds, Path(f\"temp/{hemisphere}_{band_type}_{s1}-{s2}.dtseries.nii\"))"
   ]
  }
 ],
 "metadata": {
  "kernelspec": {
   "display_name": ".thesis_venv",
   "language": "python",
   "name": "python3"
  },
  "language_info": {
   "codemirror_mode": {
    "name": "ipython",
    "version": 3
   },
   "file_extension": ".py",
   "mimetype": "text/x-python",
   "name": "python",
   "nbconvert_exporter": "python",
   "pygments_lexer": "ipython3",
   "version": "3.10.9"
  },
  "orig_nbformat": 4
 },
 "nbformat": 4,
 "nbformat_minor": 2
}
